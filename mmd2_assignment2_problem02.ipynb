{
  "nbformat": 4,
  "nbformat_minor": 5,
  "metadata": {
    "kernelspec": {
      "display_name": "Python 3",
      "language": "python",
      "name": "python3"
    },
    "language_info": {
      "codemirror_mode": {
        "name": "ipython",
        "version": 3
      },
      "file_extension": ".py",
      "mimetype": "text/x-python",
      "name": "python",
      "nbconvert_exporter": "python",
      "pygments_lexer": "ipython3",
      "version": "3.9.4"
    },
    "colab": {
      "name": "Untitled9.ipynb",
      "provenance": [],
      "collapsed_sections": [],
      "include_colab_link": true
    }
  },
  "cells": [
    {
      "cell_type": "markdown",
      "metadata": {
        "id": "view-in-github",
        "colab_type": "text"
      },
      "source": [
        "<a href=\"https://colab.research.google.com/github/ronie-1989/coding-interview-university/blob/main/mmd2_assignment2_problem02.ipynb\" target=\"_parent\"><img src=\"https://colab.research.google.com/assets/colab-badge.svg\" alt=\"Open In Colab\"/></a>"
      ]
    },
    {
      "cell_type": "markdown",
      "metadata": {
        "id": "85e63a07-53b8-497b-945b-e23ed02f1dba"
      },
      "source": [
        "import numpy as np\n",
        "import pandas as pd\n",
        "import json\n",
        "import itertools\n",
        "\n",
        "gamer_data = [];\n",
        "df2=pd.DataFrame();\n",
        "file1 = open(r'C:\\\\Users\\\\prit1\\\\Desktop\\\\RWTH Aachen Media Informatics\\\\Semester 2\\\\MMD\\\\Exercises\\\\Assignment 2\\\\data\\\\behabioralPredictionGame2Dataset10Tsd.json')\n",
        "\n",
        "Lines = file1.readlines()\n",
        "\n",
        "for ln in Lines:\n",
        "    df=pd.json_normalize(json.loads(ln),record_path=['game_attributes'],meta=['user_id','device_attributes']);\n",
        "    df2=pd.concat([df2,pd.DataFrame(df,columns=df.columns)]);\n",
        "\n",
        "\n"
      ],
      "id": "85e63a07-53b8-497b-945b-e23ed02f1dba"
    },
    {
      "cell_type": "code",
      "metadata": {
        "id": "b4eb1785"
      },
      "source": [
        "# print (df2.head)"
      ],
      "id": "b4eb1785",
      "execution_count": 3,
      "outputs": []
    },
    {
      "cell_type": "code",
      "metadata": {
        "id": "fe8728d6",
        "colab": {
          "base_uri": "https://localhost:8080/"
        },
        "outputId": "59720275-c36b-4ece-c0ec-ca8484b63e36"
      },
      "source": [
        "import numpy as np\n",
        "import pandas as pd\n",
        "import json\n",
        "import itertools\n",
        "import datetime\n",
        "\n",
        "df_movies = pd.read_csv('movies.dat', engine = 'python', delimiter='::', header = None)\n",
        "df_movies.columns = [\"MovieID\", \"Title\", \"Genres\"]\n",
        "\n",
        "df_movies = df_movies.sort_index(1).truncate(before=\"MovieID\", after=\"Title\", axis=\"columns\")\n",
        "# print (df_movies.head)\n",
        "\n",
        "\n",
        "df_ratings = pd.read_csv('ratings.dat', engine = 'python', delimiter='::', header = None)\n",
        "df_ratings.columns = [\"UserID\", \"MovieID\", \"Rating\", \"Timestamp\"]\n",
        "# second_columns = {'UserID':np.int16, 'MovieID':np.int16,'Rating':np.int8,'Timestamp':np.int16}\n",
        "# df_ratings = df_ratings.astype(second_columns)\n",
        "\n",
        "\n",
        "df_ratings.drop(labels=\"Timestamp\", axis=1, inplace = True)\n",
        "print (df_ratings.head)\n",
        "\n",
        "# df_ratings.head()\n",
        "\n",
        "df_users = pd.read_csv('users.dat', engine = 'python', delimiter='::', header = None)\n",
        "df_users.columns = [\"UserID\", \"Gender\", \"Age\", \"Occupation\", \"ZipCode\"]\n",
        "df_users = df_users.sort_index(1).truncate(before=\"UserID\", after=\"UserID\", axis=\"columns\")\n",
        "# print (df_users.head)\n",
        "\n",
        "\n",
        "# merged_movies_ratings = df_movies.merge(df_ratings, on = \"MovieID\")\n",
        "\n",
        "# df_movies = df_movies.dropna(axis=1)\n",
        "# df_ratings = df_ratings.dropna(axis=1)\n",
        "\n",
        "# print(df_movies[0:5])\n",
        "# print(df_ratings[0:5])"
      ],
      "id": "fe8728d6",
      "execution_count": 4,
      "outputs": [
        {
          "output_type": "stream",
          "text": [
            "<bound method NDFrame.head of          UserID  MovieID  Rating\n",
            "0             1     1193       5\n",
            "1             1      661       3\n",
            "2             1      914       3\n",
            "3             1     3408       4\n",
            "4             1     2355       5\n",
            "...         ...      ...     ...\n",
            "1000204    6040     1091       1\n",
            "1000205    6040     1094       5\n",
            "1000206    6040      562       5\n",
            "1000207    6040     1096       4\n",
            "1000208    6040     1097       4\n",
            "\n",
            "[1000209 rows x 3 columns]>\n"
          ],
          "name": "stdout"
        }
      ]
    },
    {
      "cell_type": "code",
      "metadata": {
        "id": "14a1c850"
      },
      "source": [
        "# df_ratings_grouped = df_ratings.groupby('UserID')\n",
        "# print(df_ratings.head)\n",
        "\n",
        "# movies_ratings = pd.merge(df_ratings, df_movies, on = 'MovieID', how = 'left')\n",
        "\n",
        "# # max_user_id = movies_ratings[movies_ratings['UserID'] == 6041]\n",
        "# # print (max_user_id.head())\n",
        "\n",
        "\n",
        "\n",
        "# print(movies_ratings[0:10])"
      ],
      "id": "14a1c850",
      "execution_count": 5,
      "outputs": []
    },
    {
      "cell_type": "code",
      "metadata": {
        "colab": {
          "base_uri": "https://localhost:8080/"
        },
        "id": "e1dcfb74-be3f-4b7a-9d0f-14677d3b2a5a",
        "outputId": "c8e9bce3-b8f0-4539-ff65-e80e94f07576"
      },
      "source": [
        "users_movie_df = pd.DataFrame(list(itertools.product(df_users['UserID'].unique(),df_movies['MovieID'].unique())), columns=['UserID', 'MovieID'])\n",
        "print(users_movie_df.shape)"
      ],
      "id": "e1dcfb74-be3f-4b7a-9d0f-14677d3b2a5a",
      "execution_count": 6,
      "outputs": [
        {
          "output_type": "stream",
          "text": [
            "(23453320, 2)\n"
          ],
          "name": "stdout"
        }
      ]
    },
    {
      "cell_type": "code",
      "metadata": {
        "colab": {
          "base_uri": "https://localhost:8080/"
        },
        "id": "e7744874-2ee6-4ea0-abb6-aeadfde5ac47",
        "outputId": "68b6ebfb-485d-40d8-9f18-f5c70853b05d"
      },
      "source": [
        "len(df_users['UserID'].unique())\n"
      ],
      "id": "e7744874-2ee6-4ea0-abb6-aeadfde5ac47",
      "execution_count": 7,
      "outputs": [
        {
          "output_type": "execute_result",
          "data": {
            "text/plain": [
              "6040"
            ]
          },
          "metadata": {
            "tags": []
          },
          "execution_count": 7
        }
      ]
    },
    {
      "cell_type": "code",
      "metadata": {
        "colab": {
          "base_uri": "https://localhost:8080/"
        },
        "id": "23b8277e-8de4-41e4-ab74-b349e2058209",
        "outputId": "20747621-6f7f-42d2-e4d1-a1729c9caff4"
      },
      "source": [
        "len(df_movies['MovieID'].unique())"
      ],
      "id": "23b8277e-8de4-41e4-ab74-b349e2058209",
      "execution_count": 8,
      "outputs": [
        {
          "output_type": "execute_result",
          "data": {
            "text/plain": [
              "3883"
            ]
          },
          "metadata": {
            "tags": []
          },
          "execution_count": 8
        }
      ]
    },
    {
      "cell_type": "code",
      "metadata": {
        "colab": {
          "base_uri": "https://localhost:8080/",
          "height": 204
        },
        "id": "c78bbe19-2d87-4bc6-9613-1b107568d208",
        "outputId": "6392c2ec-9283-4a01-cc94-ba1ad97823f8"
      },
      "source": [
        "df_ratings.head()\n"
      ],
      "id": "c78bbe19-2d87-4bc6-9613-1b107568d208",
      "execution_count": 20,
      "outputs": [
        {
          "output_type": "execute_result",
          "data": {
            "text/html": [
              "<div>\n",
              "<style scoped>\n",
              "    .dataframe tbody tr th:only-of-type {\n",
              "        vertical-align: middle;\n",
              "    }\n",
              "\n",
              "    .dataframe tbody tr th {\n",
              "        vertical-align: top;\n",
              "    }\n",
              "\n",
              "    .dataframe thead th {\n",
              "        text-align: right;\n",
              "    }\n",
              "</style>\n",
              "<table border=\"1\" class=\"dataframe\">\n",
              "  <thead>\n",
              "    <tr style=\"text-align: right;\">\n",
              "      <th></th>\n",
              "      <th>UserID</th>\n",
              "      <th>MovieID</th>\n",
              "      <th>Rating</th>\n",
              "    </tr>\n",
              "  </thead>\n",
              "  <tbody>\n",
              "    <tr>\n",
              "      <th>0</th>\n",
              "      <td>1</td>\n",
              "      <td>1193</td>\n",
              "      <td>5</td>\n",
              "    </tr>\n",
              "    <tr>\n",
              "      <th>1</th>\n",
              "      <td>1</td>\n",
              "      <td>661</td>\n",
              "      <td>3</td>\n",
              "    </tr>\n",
              "    <tr>\n",
              "      <th>2</th>\n",
              "      <td>1</td>\n",
              "      <td>914</td>\n",
              "      <td>3</td>\n",
              "    </tr>\n",
              "    <tr>\n",
              "      <th>3</th>\n",
              "      <td>1</td>\n",
              "      <td>3408</td>\n",
              "      <td>4</td>\n",
              "    </tr>\n",
              "    <tr>\n",
              "      <th>4</th>\n",
              "      <td>1</td>\n",
              "      <td>2355</td>\n",
              "      <td>5</td>\n",
              "    </tr>\n",
              "  </tbody>\n",
              "</table>\n",
              "</div>"
            ],
            "text/plain": [
              "   UserID  MovieID  Rating\n",
              "0       1     1193       5\n",
              "1       1      661       3\n",
              "2       1      914       3\n",
              "3       1     3408       4\n",
              "4       1     2355       5"
            ]
          },
          "metadata": {
            "tags": []
          },
          "execution_count": 20
        }
      ]
    },
    {
      "cell_type": "code",
      "metadata": {
        "colab": {
          "base_uri": "https://localhost:8080/",
          "height": 204
        },
        "id": "NQ3uDPw_z3YN",
        "outputId": "56213ce8-25ba-4a07-b8c0-e7c8cf0fd5e1"
      },
      "source": [
        "users_movie_df.head()"
      ],
      "id": "NQ3uDPw_z3YN",
      "execution_count": 21,
      "outputs": [
        {
          "output_type": "execute_result",
          "data": {
            "text/html": [
              "<div>\n",
              "<style scoped>\n",
              "    .dataframe tbody tr th:only-of-type {\n",
              "        vertical-align: middle;\n",
              "    }\n",
              "\n",
              "    .dataframe tbody tr th {\n",
              "        vertical-align: top;\n",
              "    }\n",
              "\n",
              "    .dataframe thead th {\n",
              "        text-align: right;\n",
              "    }\n",
              "</style>\n",
              "<table border=\"1\" class=\"dataframe\">\n",
              "  <thead>\n",
              "    <tr style=\"text-align: right;\">\n",
              "      <th></th>\n",
              "      <th>UserID</th>\n",
              "      <th>MovieID</th>\n",
              "    </tr>\n",
              "  </thead>\n",
              "  <tbody>\n",
              "    <tr>\n",
              "      <th>0</th>\n",
              "      <td>1</td>\n",
              "      <td>1</td>\n",
              "    </tr>\n",
              "    <tr>\n",
              "      <th>1</th>\n",
              "      <td>1</td>\n",
              "      <td>2</td>\n",
              "    </tr>\n",
              "    <tr>\n",
              "      <th>2</th>\n",
              "      <td>1</td>\n",
              "      <td>3</td>\n",
              "    </tr>\n",
              "    <tr>\n",
              "      <th>3</th>\n",
              "      <td>1</td>\n",
              "      <td>4</td>\n",
              "    </tr>\n",
              "    <tr>\n",
              "      <th>4</th>\n",
              "      <td>1</td>\n",
              "      <td>5</td>\n",
              "    </tr>\n",
              "  </tbody>\n",
              "</table>\n",
              "</div>"
            ],
            "text/plain": [
              "   UserID  MovieID\n",
              "0       1        1\n",
              "1       1        2\n",
              "2       1        3\n",
              "3       1        4\n",
              "4       1        5"
            ]
          },
          "metadata": {
            "tags": []
          },
          "execution_count": 21
        }
      ]
    },
    {
      "cell_type": "code",
      "metadata": {
        "id": "oIbyNEHEjeKB"
      },
      "source": [
        "df_ratings.set_index(['MovieID'], inplace=True)\n",
        "users_movie_df.set_index(['MovieID'], inplace=True)"
      ],
      "id": "oIbyNEHEjeKB",
      "execution_count": 23,
      "outputs": []
    },
    {
      "cell_type": "code",
      "metadata": {
        "id": "bd2cf333-c8af-4ad0-bb96-19096827b2f0"
      },
      "source": [
        "combined_X1 = pd.merge(users_movie_df, df_ratings, how='outer', on=[ 'MovieID','UserID'])\n",
        "\n",
        "#print(combined_X.head)"
      ],
      "id": "bd2cf333-c8af-4ad0-bb96-19096827b2f0",
      "execution_count": 29,
      "outputs": []
    },
    {
      "cell_type": "code",
      "metadata": {
        "colab": {
          "base_uri": "https://localhost:8080/"
        },
        "id": "v1FRvOYK1Rwf",
        "outputId": "fb8d02f4-02c7-4ad5-d158-5fda31d413a9"
      },
      "source": [
        "combined_X2 = pd.merge(combined_X1, df_movies, how='outer', on=[ 'MovieID','MovieID'])\n",
        "\n",
        "print(combined_X2.head)"
      ],
      "id": "v1FRvOYK1Rwf",
      "execution_count": 31,
      "outputs": [
        {
          "output_type": "stream",
          "text": [
            "<bound method NDFrame.head of           MovieID  UserID  Rating                  Title\n",
            "0               1       1     5.0       Toy Story (1995)\n",
            "1               1       2     NaN       Toy Story (1995)\n",
            "2               1       3     NaN       Toy Story (1995)\n",
            "3               1       4     NaN       Toy Story (1995)\n",
            "4               1       5     NaN       Toy Story (1995)\n",
            "...           ...     ...     ...                    ...\n",
            "23453315     3952    6036     NaN  Contender, The (2000)\n",
            "23453316     3952    6037     NaN  Contender, The (2000)\n",
            "23453317     3952    6038     NaN  Contender, The (2000)\n",
            "23453318     3952    6039     NaN  Contender, The (2000)\n",
            "23453319     3952    6040     NaN  Contender, The (2000)\n",
            "\n",
            "[23453320 rows x 4 columns]>\n"
          ],
          "name": "stdout"
        }
      ]
    },
    {
      "cell_type": "code",
      "metadata": {
        "colab": {
          "base_uri": "https://localhost:8080/"
        },
        "id": "tngbfOLm-Tlx",
        "outputId": "618662df-9bac-4ed3-90e7-7cf2747b09d8"
      },
      "source": [
        "combined_X2.drop(labels=\"MovieID\", axis=1, inplace = True)\n",
        "print(combined_X2.head)"
      ],
      "id": "tngbfOLm-Tlx",
      "execution_count": 32,
      "outputs": [
        {
          "output_type": "stream",
          "text": [
            "<bound method NDFrame.head of           UserID  Rating                  Title\n",
            "0              1     5.0       Toy Story (1995)\n",
            "1              2     NaN       Toy Story (1995)\n",
            "2              3     NaN       Toy Story (1995)\n",
            "3              4     NaN       Toy Story (1995)\n",
            "4              5     NaN       Toy Story (1995)\n",
            "...          ...     ...                    ...\n",
            "23453315    6036     NaN  Contender, The (2000)\n",
            "23453316    6037     NaN  Contender, The (2000)\n",
            "23453317    6038     NaN  Contender, The (2000)\n",
            "23453318    6039     NaN  Contender, The (2000)\n",
            "23453319    6040     NaN  Contender, The (2000)\n",
            "\n",
            "[23453320 rows x 3 columns]>\n"
          ],
          "name": "stdout"
        }
      ]
    },
    {
      "cell_type": "code",
      "metadata": {
        "colab": {
          "base_uri": "https://localhost:8080/",
          "height": 419
        },
        "id": "MTcISQwV-pFk",
        "outputId": "56b7aabd-3ee4-4311-8c12-9e41b0e96111"
      },
      "source": [
        "combined_X2.fillna(0)"
      ],
      "id": "MTcISQwV-pFk",
      "execution_count": 33,
      "outputs": [
        {
          "output_type": "execute_result",
          "data": {
            "text/html": [
              "<div>\n",
              "<style scoped>\n",
              "    .dataframe tbody tr th:only-of-type {\n",
              "        vertical-align: middle;\n",
              "    }\n",
              "\n",
              "    .dataframe tbody tr th {\n",
              "        vertical-align: top;\n",
              "    }\n",
              "\n",
              "    .dataframe thead th {\n",
              "        text-align: right;\n",
              "    }\n",
              "</style>\n",
              "<table border=\"1\" class=\"dataframe\">\n",
              "  <thead>\n",
              "    <tr style=\"text-align: right;\">\n",
              "      <th></th>\n",
              "      <th>UserID</th>\n",
              "      <th>Rating</th>\n",
              "      <th>Title</th>\n",
              "    </tr>\n",
              "  </thead>\n",
              "  <tbody>\n",
              "    <tr>\n",
              "      <th>0</th>\n",
              "      <td>1</td>\n",
              "      <td>5.0</td>\n",
              "      <td>Toy Story (1995)</td>\n",
              "    </tr>\n",
              "    <tr>\n",
              "      <th>1</th>\n",
              "      <td>2</td>\n",
              "      <td>0.0</td>\n",
              "      <td>Toy Story (1995)</td>\n",
              "    </tr>\n",
              "    <tr>\n",
              "      <th>2</th>\n",
              "      <td>3</td>\n",
              "      <td>0.0</td>\n",
              "      <td>Toy Story (1995)</td>\n",
              "    </tr>\n",
              "    <tr>\n",
              "      <th>3</th>\n",
              "      <td>4</td>\n",
              "      <td>0.0</td>\n",
              "      <td>Toy Story (1995)</td>\n",
              "    </tr>\n",
              "    <tr>\n",
              "      <th>4</th>\n",
              "      <td>5</td>\n",
              "      <td>0.0</td>\n",
              "      <td>Toy Story (1995)</td>\n",
              "    </tr>\n",
              "    <tr>\n",
              "      <th>...</th>\n",
              "      <td>...</td>\n",
              "      <td>...</td>\n",
              "      <td>...</td>\n",
              "    </tr>\n",
              "    <tr>\n",
              "      <th>23453315</th>\n",
              "      <td>6036</td>\n",
              "      <td>0.0</td>\n",
              "      <td>Contender, The (2000)</td>\n",
              "    </tr>\n",
              "    <tr>\n",
              "      <th>23453316</th>\n",
              "      <td>6037</td>\n",
              "      <td>0.0</td>\n",
              "      <td>Contender, The (2000)</td>\n",
              "    </tr>\n",
              "    <tr>\n",
              "      <th>23453317</th>\n",
              "      <td>6038</td>\n",
              "      <td>0.0</td>\n",
              "      <td>Contender, The (2000)</td>\n",
              "    </tr>\n",
              "    <tr>\n",
              "      <th>23453318</th>\n",
              "      <td>6039</td>\n",
              "      <td>0.0</td>\n",
              "      <td>Contender, The (2000)</td>\n",
              "    </tr>\n",
              "    <tr>\n",
              "      <th>23453319</th>\n",
              "      <td>6040</td>\n",
              "      <td>0.0</td>\n",
              "      <td>Contender, The (2000)</td>\n",
              "    </tr>\n",
              "  </tbody>\n",
              "</table>\n",
              "<p>23453320 rows × 3 columns</p>\n",
              "</div>"
            ],
            "text/plain": [
              "          UserID  Rating                  Title\n",
              "0              1     5.0       Toy Story (1995)\n",
              "1              2     0.0       Toy Story (1995)\n",
              "2              3     0.0       Toy Story (1995)\n",
              "3              4     0.0       Toy Story (1995)\n",
              "4              5     0.0       Toy Story (1995)\n",
              "...          ...     ...                    ...\n",
              "23453315    6036     0.0  Contender, The (2000)\n",
              "23453316    6037     0.0  Contender, The (2000)\n",
              "23453317    6038     0.0  Contender, The (2000)\n",
              "23453318    6039     0.0  Contender, The (2000)\n",
              "23453319    6040     0.0  Contender, The (2000)\n",
              "\n",
              "[23453320 rows x 3 columns]"
            ]
          },
          "metadata": {
            "tags": []
          },
          "execution_count": 33
        }
      ]
    },
    {
      "cell_type": "code",
      "metadata": {
        "colab": {
          "base_uri": "https://localhost:8080/"
        },
        "id": "bL8yH6OZ_OIb",
        "outputId": "76ff17a0-84c3-4713-b04a-fe48d07b096a"
      },
      "source": [
        "combined_X2.iloc[0]"
      ],
      "id": "bL8yH6OZ_OIb",
      "execution_count": 34,
      "outputs": [
        {
          "output_type": "execute_result",
          "data": {
            "text/plain": [
              "UserID                   1\n",
              "Rating                   5\n",
              "Title     Toy Story (1995)\n",
              "Name: 0, dtype: object"
            ]
          },
          "metadata": {
            "tags": []
          },
          "execution_count": 34
        }
      ]
    },
    {
      "cell_type": "code",
      "metadata": {
        "id": "HLVknIu6_zdL"
      },
      "source": [
        ""
      ],
      "id": "HLVknIu6_zdL",
      "execution_count": null,
      "outputs": []
    }
  ]
}